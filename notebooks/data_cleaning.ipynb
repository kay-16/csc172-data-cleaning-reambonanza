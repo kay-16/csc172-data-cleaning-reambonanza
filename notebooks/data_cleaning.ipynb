{
 "cells": [
  {
   "cell_type": "markdown",
   "id": "d277d1f9",
   "metadata": {},
   "source": [
    "# Predict House Sale Price"
   ]
  },
  {
   "cell_type": "markdown",
   "id": "8ac08c7a",
   "metadata": {},
   "source": [
    "Predict the sales price for each house. For each Id in the test set, predict the value of the SalePrice variable "
   ]
  },
  {
   "cell_type": "markdown",
   "id": "6da3f825",
   "metadata": {},
   "source": [
    "## 1.Perform exploratory checks"
   ]
  },
  {
   "cell_type": "markdown",
   "id": "f71ba40e",
   "metadata": {},
   "source": [
    "*Load the raw dataset and perform exploratory checks*"
   ]
  },
  {
   "cell_type": "code",
   "execution_count": 44,
   "id": "f554dc97",
   "metadata": {},
   "outputs": [],
   "source": [
    "# Import libraries\n",
    "import pandas as pd\n",
    "import numpy as np\n",
    "import seaborn as sns\n",
    "import matplotlib.pyplot as plt"
   ]
  },
  {
   "cell_type": "code",
   "execution_count": 45,
   "id": "e1a325be",
   "metadata": {},
   "outputs": [
    {
     "data": {
      "text/html": [
       "<div>\n",
       "<style scoped>\n",
       "    .dataframe tbody tr th:only-of-type {\n",
       "        vertical-align: middle;\n",
       "    }\n",
       "\n",
       "    .dataframe tbody tr th {\n",
       "        vertical-align: top;\n",
       "    }\n",
       "\n",
       "    .dataframe thead th {\n",
       "        text-align: right;\n",
       "    }\n",
       "</style>\n",
       "<table border=\"1\" class=\"dataframe\">\n",
       "  <thead>\n",
       "    <tr style=\"text-align: right;\">\n",
       "      <th></th>\n",
       "      <th>Id</th>\n",
       "      <th>MSSubClass</th>\n",
       "      <th>MSZoning</th>\n",
       "      <th>LotFrontage</th>\n",
       "      <th>LotArea</th>\n",
       "      <th>Street</th>\n",
       "      <th>Alley</th>\n",
       "      <th>LotShape</th>\n",
       "      <th>LandContour</th>\n",
       "      <th>Utilities</th>\n",
       "      <th>...</th>\n",
       "      <th>ScreenPorch</th>\n",
       "      <th>PoolArea</th>\n",
       "      <th>PoolQC</th>\n",
       "      <th>Fence</th>\n",
       "      <th>MiscFeature</th>\n",
       "      <th>MiscVal</th>\n",
       "      <th>MoSold</th>\n",
       "      <th>YrSold</th>\n",
       "      <th>SaleType</th>\n",
       "      <th>SaleCondition</th>\n",
       "    </tr>\n",
       "  </thead>\n",
       "  <tbody>\n",
       "    <tr>\n",
       "      <th>0</th>\n",
       "      <td>1461</td>\n",
       "      <td>20</td>\n",
       "      <td>RH</td>\n",
       "      <td>80.0</td>\n",
       "      <td>11622</td>\n",
       "      <td>Pave</td>\n",
       "      <td>NaN</td>\n",
       "      <td>Reg</td>\n",
       "      <td>Lvl</td>\n",
       "      <td>AllPub</td>\n",
       "      <td>...</td>\n",
       "      <td>120</td>\n",
       "      <td>0</td>\n",
       "      <td>NaN</td>\n",
       "      <td>MnPrv</td>\n",
       "      <td>NaN</td>\n",
       "      <td>0</td>\n",
       "      <td>6</td>\n",
       "      <td>2010</td>\n",
       "      <td>WD</td>\n",
       "      <td>Normal</td>\n",
       "    </tr>\n",
       "    <tr>\n",
       "      <th>1</th>\n",
       "      <td>1462</td>\n",
       "      <td>20</td>\n",
       "      <td>RL</td>\n",
       "      <td>81.0</td>\n",
       "      <td>14267</td>\n",
       "      <td>Pave</td>\n",
       "      <td>NaN</td>\n",
       "      <td>IR1</td>\n",
       "      <td>Lvl</td>\n",
       "      <td>AllPub</td>\n",
       "      <td>...</td>\n",
       "      <td>0</td>\n",
       "      <td>0</td>\n",
       "      <td>NaN</td>\n",
       "      <td>NaN</td>\n",
       "      <td>Gar2</td>\n",
       "      <td>12500</td>\n",
       "      <td>6</td>\n",
       "      <td>2010</td>\n",
       "      <td>WD</td>\n",
       "      <td>Normal</td>\n",
       "    </tr>\n",
       "    <tr>\n",
       "      <th>2</th>\n",
       "      <td>1463</td>\n",
       "      <td>60</td>\n",
       "      <td>RL</td>\n",
       "      <td>74.0</td>\n",
       "      <td>13830</td>\n",
       "      <td>Pave</td>\n",
       "      <td>NaN</td>\n",
       "      <td>IR1</td>\n",
       "      <td>Lvl</td>\n",
       "      <td>AllPub</td>\n",
       "      <td>...</td>\n",
       "      <td>0</td>\n",
       "      <td>0</td>\n",
       "      <td>NaN</td>\n",
       "      <td>MnPrv</td>\n",
       "      <td>NaN</td>\n",
       "      <td>0</td>\n",
       "      <td>3</td>\n",
       "      <td>2010</td>\n",
       "      <td>WD</td>\n",
       "      <td>Normal</td>\n",
       "    </tr>\n",
       "    <tr>\n",
       "      <th>3</th>\n",
       "      <td>1464</td>\n",
       "      <td>60</td>\n",
       "      <td>RL</td>\n",
       "      <td>78.0</td>\n",
       "      <td>9978</td>\n",
       "      <td>Pave</td>\n",
       "      <td>NaN</td>\n",
       "      <td>IR1</td>\n",
       "      <td>Lvl</td>\n",
       "      <td>AllPub</td>\n",
       "      <td>...</td>\n",
       "      <td>0</td>\n",
       "      <td>0</td>\n",
       "      <td>NaN</td>\n",
       "      <td>NaN</td>\n",
       "      <td>NaN</td>\n",
       "      <td>0</td>\n",
       "      <td>6</td>\n",
       "      <td>2010</td>\n",
       "      <td>WD</td>\n",
       "      <td>Normal</td>\n",
       "    </tr>\n",
       "    <tr>\n",
       "      <th>4</th>\n",
       "      <td>1465</td>\n",
       "      <td>120</td>\n",
       "      <td>RL</td>\n",
       "      <td>43.0</td>\n",
       "      <td>5005</td>\n",
       "      <td>Pave</td>\n",
       "      <td>NaN</td>\n",
       "      <td>IR1</td>\n",
       "      <td>HLS</td>\n",
       "      <td>AllPub</td>\n",
       "      <td>...</td>\n",
       "      <td>144</td>\n",
       "      <td>0</td>\n",
       "      <td>NaN</td>\n",
       "      <td>NaN</td>\n",
       "      <td>NaN</td>\n",
       "      <td>0</td>\n",
       "      <td>1</td>\n",
       "      <td>2010</td>\n",
       "      <td>WD</td>\n",
       "      <td>Normal</td>\n",
       "    </tr>\n",
       "  </tbody>\n",
       "</table>\n",
       "<p>5 rows × 80 columns</p>\n",
       "</div>"
      ],
      "text/plain": [
       "     Id  MSSubClass MSZoning  LotFrontage  LotArea Street Alley LotShape  \\\n",
       "0  1461          20       RH         80.0    11622   Pave   NaN      Reg   \n",
       "1  1462          20       RL         81.0    14267   Pave   NaN      IR1   \n",
       "2  1463          60       RL         74.0    13830   Pave   NaN      IR1   \n",
       "3  1464          60       RL         78.0     9978   Pave   NaN      IR1   \n",
       "4  1465         120       RL         43.0     5005   Pave   NaN      IR1   \n",
       "\n",
       "  LandContour Utilities  ... ScreenPorch PoolArea PoolQC  Fence MiscFeature  \\\n",
       "0         Lvl    AllPub  ...         120        0    NaN  MnPrv         NaN   \n",
       "1         Lvl    AllPub  ...           0        0    NaN    NaN        Gar2   \n",
       "2         Lvl    AllPub  ...           0        0    NaN  MnPrv         NaN   \n",
       "3         Lvl    AllPub  ...           0        0    NaN    NaN         NaN   \n",
       "4         HLS    AllPub  ...         144        0    NaN    NaN         NaN   \n",
       "\n",
       "  MiscVal MoSold  YrSold  SaleType  SaleCondition  \n",
       "0       0      6    2010        WD         Normal  \n",
       "1   12500      6    2010        WD         Normal  \n",
       "2       0      3    2010        WD         Normal  \n",
       "3       0      6    2010        WD         Normal  \n",
       "4       0      1    2010        WD         Normal  \n",
       "\n",
       "[5 rows x 80 columns]"
      ]
     },
     "execution_count": 45,
     "metadata": {},
     "output_type": "execute_result"
    }
   ],
   "source": [
    "# Load datasets\n",
    "df = pd.read_csv(\"../data/raw_dataset.csv\")\n",
    "df.head()"
   ]
  },
  {
   "cell_type": "code",
   "execution_count": 46,
   "id": "d465dcd4",
   "metadata": {},
   "outputs": [
    {
     "name": "stdout",
     "output_type": "stream",
     "text": [
      "Dataset Shape: (1459, 80)\n"
     ]
    }
   ],
   "source": [
    "# Shape of the dataset\n",
    "print(\"Dataset Shape:\", df.shape)  # (rows, columns)"
   ]
  },
  {
   "cell_type": "code",
   "execution_count": 47,
   "id": "c77ce437",
   "metadata": {},
   "outputs": [
    {
     "name": "stdout",
     "output_type": "stream",
     "text": [
      "\n",
      "Sample Rows:\n",
      "     Id  MSSubClass MSZoning  LotFrontage  LotArea Street Alley LotShape  \\\n",
      "0  1461          20       RH         80.0    11622   Pave   NaN      Reg   \n",
      "1  1462          20       RL         81.0    14267   Pave   NaN      IR1   \n",
      "2  1463          60       RL         74.0    13830   Pave   NaN      IR1   \n",
      "3  1464          60       RL         78.0     9978   Pave   NaN      IR1   \n",
      "4  1465         120       RL         43.0     5005   Pave   NaN      IR1   \n",
      "\n",
      "  LandContour Utilities  ... ScreenPorch PoolArea PoolQC  Fence MiscFeature  \\\n",
      "0         Lvl    AllPub  ...         120        0    NaN  MnPrv         NaN   \n",
      "1         Lvl    AllPub  ...           0        0    NaN    NaN        Gar2   \n",
      "2         Lvl    AllPub  ...           0        0    NaN  MnPrv         NaN   \n",
      "3         Lvl    AllPub  ...           0        0    NaN    NaN         NaN   \n",
      "4         HLS    AllPub  ...         144        0    NaN    NaN         NaN   \n",
      "\n",
      "  MiscVal MoSold  YrSold  SaleType  SaleCondition  \n",
      "0       0      6    2010        WD         Normal  \n",
      "1   12500      6    2010        WD         Normal  \n",
      "2       0      3    2010        WD         Normal  \n",
      "3       0      6    2010        WD         Normal  \n",
      "4       0      1    2010        WD         Normal  \n",
      "\n",
      "[5 rows x 80 columns]\n"
     ]
    }
   ],
   "source": [
    "# Display first 5 sample rows\n",
    "print(\"\\nSample Rows:\")\n",
    "print(df.head())  # default first 5 rows"
   ]
  },
  {
   "cell_type": "code",
   "execution_count": 48,
   "id": "bc1e6f63",
   "metadata": {},
   "outputs": [
    {
     "name": "stdout",
     "output_type": "stream",
     "text": [
      "\n",
      "Summary Statistics:\n",
      "                Id   MSSubClass  LotFrontage       LotArea  OverallQual  \\\n",
      "count  1459.000000  1459.000000  1232.000000   1459.000000  1459.000000   \n",
      "mean   2190.000000    57.378341    68.580357   9819.161069     6.078821   \n",
      "std     421.321334    42.746880    22.376841   4955.517327     1.436812   \n",
      "min    1461.000000    20.000000    21.000000   1470.000000     1.000000   \n",
      "25%    1825.500000    20.000000    58.000000   7391.000000     5.000000   \n",
      "50%    2190.000000    50.000000    67.000000   9399.000000     6.000000   \n",
      "75%    2554.500000    70.000000    80.000000  11517.500000     7.000000   \n",
      "max    2919.000000   190.000000   200.000000  56600.000000    10.000000   \n",
      "\n",
      "       OverallCond    YearBuilt  YearRemodAdd   MasVnrArea   BsmtFinSF1  ...  \\\n",
      "count  1459.000000  1459.000000   1459.000000  1444.000000  1458.000000  ...   \n",
      "mean      5.553804  1971.357779   1983.662783   100.709141   439.203704  ...   \n",
      "std       1.113740    30.390071     21.130467   177.625900   455.268042  ...   \n",
      "min       1.000000  1879.000000   1950.000000     0.000000     0.000000  ...   \n",
      "25%       5.000000  1953.000000   1963.000000     0.000000     0.000000  ...   \n",
      "50%       5.000000  1973.000000   1992.000000     0.000000   350.500000  ...   \n",
      "75%       6.000000  2001.000000   2004.000000   164.000000   753.500000  ...   \n",
      "max       9.000000  2010.000000   2010.000000  1290.000000  4010.000000  ...   \n",
      "\n",
      "        GarageArea   WoodDeckSF  OpenPorchSF  EnclosedPorch    3SsnPorch  \\\n",
      "count  1458.000000  1459.000000  1459.000000    1459.000000  1459.000000   \n",
      "mean    472.768861    93.174777    48.313914      24.243317     1.794380   \n",
      "std     217.048611   127.744882    68.883364      67.227765    20.207842   \n",
      "min       0.000000     0.000000     0.000000       0.000000     0.000000   \n",
      "25%     318.000000     0.000000     0.000000       0.000000     0.000000   \n",
      "50%     480.000000     0.000000    28.000000       0.000000     0.000000   \n",
      "75%     576.000000   168.000000    72.000000       0.000000     0.000000   \n",
      "max    1488.000000  1424.000000   742.000000    1012.000000   360.000000   \n",
      "\n",
      "       ScreenPorch     PoolArea       MiscVal       MoSold       YrSold  \n",
      "count  1459.000000  1459.000000   1459.000000  1459.000000  1459.000000  \n",
      "mean     17.064428     1.744345     58.167923     6.104181  2007.769705  \n",
      "std      56.609763    30.491646    630.806978     2.722432     1.301740  \n",
      "min       0.000000     0.000000      0.000000     1.000000  2006.000000  \n",
      "25%       0.000000     0.000000      0.000000     4.000000  2007.000000  \n",
      "50%       0.000000     0.000000      0.000000     6.000000  2008.000000  \n",
      "75%       0.000000     0.000000      0.000000     8.000000  2009.000000  \n",
      "max     576.000000   800.000000  17000.000000    12.000000  2010.000000  \n",
      "\n",
      "[8 rows x 37 columns]\n"
     ]
    }
   ],
   "source": [
    "# Summary statistics for numerical columns\n",
    "print(\"\\nSummary Statistics:\")\n",
    "print(df.describe())\n"
   ]
  },
  {
   "cell_type": "code",
   "execution_count": 49,
   "id": "50d6300f",
   "metadata": {},
   "outputs": [
    {
     "name": "stdout",
     "output_type": "stream",
     "text": [
      "\n",
      "Missing Values per Column:\n",
      "Id                 0\n",
      "MSSubClass         0\n",
      "MSZoning           4\n",
      "LotFrontage      227\n",
      "LotArea            0\n",
      "                ... \n",
      "MiscVal            0\n",
      "MoSold             0\n",
      "YrSold             0\n",
      "SaleType           1\n",
      "SaleCondition      0\n",
      "Length: 80, dtype: int64\n"
     ]
    }
   ],
   "source": [
    "# Check for missing values\n",
    "print(\"\\nMissing Values per Column:\")\n",
    "print(df.isnull().sum())"
   ]
  },
  {
   "cell_type": "code",
   "execution_count": 50,
   "id": "34d252a5",
   "metadata": {},
   "outputs": [
    {
     "name": "stdout",
     "output_type": "stream",
     "text": [
      "\n",
      "Number of duplicate rows: 0\n"
     ]
    }
   ],
   "source": [
    "# Check for duplicate rows\n",
    "duplicates = df.duplicated().sum()\n",
    "print(f\"\\nNumber of duplicate rows: {duplicates}\")\n",
    "\n",
    "# Show actual duplicate rows if needed\n",
    "if duplicates > 0:\n",
    "    print(\"\\nDuplicate Rows:\")\n",
    "    print(df[df.duplicated()])"
   ]
  },
  {
   "cell_type": "markdown",
   "id": "bef92837",
   "metadata": {},
   "source": [
    "## 2. Apply cleaning steps"
   ]
  },
  {
   "cell_type": "markdown",
   "id": "216307ff",
   "metadata": {},
   "source": [
    "*Handle missing values, duplicate removal, standardize formats, and detect/treat outliers*"
   ]
  },
  {
   "cell_type": "code",
   "execution_count": 51,
   "id": "7b1c6a91",
   "metadata": {},
   "outputs": [
    {
     "name": "stdout",
     "output_type": "stream",
     "text": [
      "\n",
      "Missing Values (Count):\n",
      "PoolQC          1456\n",
      "MiscFeature     1408\n",
      "Alley           1352\n",
      "Fence           1169\n",
      "MasVnrType       894\n",
      "FireplaceQu      730\n",
      "LotFrontage      227\n",
      "GarageYrBlt       78\n",
      "GarageQual        78\n",
      "GarageFinish      78\n",
      "GarageCond        78\n",
      "GarageType        76\n",
      "BsmtCond          45\n",
      "BsmtQual          44\n",
      "BsmtExposure      44\n",
      "dtype: int64\n",
      "\n",
      "Dropped columns with >80% missing: ['Alley', 'PoolQC', 'Fence', 'MiscFeature']\n"
     ]
    },
    {
     "name": "stdout",
     "output_type": "stream",
     "text": [
      "\n",
      "Missing Values After Handling:\n",
      "330 total missing values remaining\n"
     ]
    }
   ],
   "source": [
    "# ---- Handle missing values ----\n",
    " \n",
    "# View missing values count \n",
    "print(\"\\nMissing Values (Count):\")\n",
    "print(df.isnull().sum().sort_values(ascending=False).head(15))\n",
    "\n",
    "# ---- Strategy ----\n",
    "# - Drop columns with too many missin values (>80% missing)\n",
    "missing_threshold = 0.8\n",
    "missing_ratio = df.isnull().sum() / len(df)\n",
    "cols_to_drop = missing_ratio[missing_ratio > missing_threshold].index\n",
    "df.drop(columns=cols_to_drop, inplace=True)\n",
    "print(f\"\\nDropped columns with >80% missing: {list(cols_to_drop)}\")\n",
    "\n",
    "# - Fill categorical columns with mode (most frequent value)\n",
    "categorical_cols = df.select_dtypes(include='object').columns\n",
    "for col in categorical_cols:\n",
    "    if df[col].isnull().sum() > 0:\n",
    "        df[col] = df[col].fillna(df[col].mode()[0])\n",
    "\n",
    "print(\"\\nMissing Values After Handling:\")\n",
    "print(df.isnull().sum().sum(), \"total missing values remaining\")"
   ]
  },
  {
   "cell_type": "code",
   "execution_count": 52,
   "id": "2f67c6ed",
   "metadata": {},
   "outputs": [
    {
     "name": "stdout",
     "output_type": "stream",
     "text": [
      "\n",
      "Duplicate Rows Found: 0\n",
      "No duplicate rows to remove.\n"
     ]
    }
   ],
   "source": [
    "# ---- Remove duplicates ----\n",
    "duplicate_count = df.duplicated().sum()\n",
    "print(f\"\\nDuplicate Rows Found: {duplicate_count}\")\n",
    "\n",
    "if duplicate_count > 0:\n",
    "    df.drop_duplicates(inplace=True)\n",
    "    print(\"duplicates removed.\")\n",
    "else:\n",
    "    print(\"No duplicate rows to remove.\")"
   ]
  },
  {
   "cell_type": "code",
   "execution_count": 53,
   "id": "1177e489",
   "metadata": {},
   "outputs": [
    {
     "name": "stdout",
     "output_type": "stream",
     "text": [
      "\n",
      "Data Types After Conversion:\n",
      "Id                int64\n",
      "MSSubClass     category\n",
      "MSZoning       category\n",
      "LotFrontage     float64\n",
      "LotArea           int64\n",
      "Street         category\n",
      "LotShape         object\n",
      "LandContour      object\n",
      "Utilities        object\n",
      "LotConfig        object\n",
      "dtype: object\n"
     ]
    }
   ],
   "source": [
    "# ---- Standardize Formats ----\n",
    "\n",
    "# - Convert certain columns to categorical\n",
    "categorical_candidates = ['MSSubClass', 'MSZoning', 'Street', 'SaleCondition']\n",
    "for col in categorical_candidates:\n",
    "    if col in df.columns:\n",
    "        df[col] = df[col].astype('category')\n",
    "\n",
    "# - Confirm conversion\n",
    "print(\"\\nData Types After Conversion:\")\n",
    "print(df.dtypes.head(10))"
   ]
  },
  {
   "cell_type": "code",
   "execution_count": 54,
   "id": "c312e6b0",
   "metadata": {},
   "outputs": [
    {
     "name": "stdout",
     "output_type": "stream",
     "text": [
      "\n",
      "LotArea:\n",
      "Lower Bound = 1201.25, Upper Bound = 17707.25\n",
      "\n",
      "LotFrontage:\n",
      "Lower Bound = 25.0, Upper Bound = 113.0\n",
      "\n",
      "GrLivArea:\n",
      "Lower Bound = 212.25, Upper Bound = 2626.25\n"
     ]
    },
    {
     "data": {
      "image/png": "[encoded data removed]",
      "text/plain": [
       "<Figure size 640x480 with 1 Axes>"
      ]
     },
     "metadata": {},
     "output_type": "display_data"
    }
   ],
   "source": [
    "# ---- Detect & Treat Outliers ----\n",
    "\n",
    "# - Method: IQR (Interquartile Range)\n",
    "def treat_outliers_iqr(dataframe, column):\n",
    "    Q1 = dataframe[column].quantile(0.25)\n",
    "    Q3 = dataframe[column].quantile(0.75)\n",
    "    IQR = Q3 - Q1\n",
    "    lower_bound = Q1 - 1.5 * IQR\n",
    "    upper_bound = Q3 + 1.5 * IQR\n",
    "\n",
    "    # - Print info\n",
    "    print(f\"\\n{column}:\")\n",
    "    print(f\"Lower Bound = {lower_bound}, Upper Bound = {upper_bound}\")\n",
    "\n",
    "    # - Cap extreme outliers\n",
    "    dataframe[column] = np.where(dataframe[column] > upper_bound, upper_bound,\n",
    "                        np.where(dataframe[column] < lower_bound, lower_bound, dataframe[column]))\n",
    "    \n",
    "# - Apply to key numerical columns\n",
    "important_numerical = ['LotArea', 'LotFrontage', 'GrLivArea', 'SalePrice']\n",
    "for col in important_numerical:\n",
    "    if col in df.columns:\n",
    "        treat_outliers_iqr(df, col)\n",
    "\n",
    "# Visualise after treating outliers\n",
    "sns.boxplot(x=df['LotArea'])\n",
    "plt.title(\"LotArea After Outlier Treatment\")\n",
    "plt.show()\n"
   ]
  },
  {
   "cell_type": "code",
   "execution_count": 55,
   "id": "fe0e06f5",
   "metadata": {},
   "outputs": [
    {
     "name": "stdout",
     "output_type": "stream",
     "text": [
      "\n",
      "Final Shape: (1459, 76)\n",
      "\n",
      "Sample Rows (After Cleaning):\n",
      "     Id MSSubClass MSZoning  LotFrontage  LotArea Street LotShape LandContour  \\\n",
      "0  1461         20       RH         80.0  11622.0   Pave      Reg         Lvl   \n",
      "1  1462         20       RL         81.0  14267.0   Pave      IR1         Lvl   \n",
      "2  1463         60       RL         74.0  13830.0   Pave      IR1         Lvl   \n",
      "3  1464         60       RL         78.0   9978.0   Pave      IR1         Lvl   \n",
      "4  1465        120       RL         43.0   5005.0   Pave      IR1         HLS   \n",
      "\n",
      "  Utilities LotConfig  ... OpenPorchSF EnclosedPorch 3SsnPorch ScreenPorch  \\\n",
      "0    AllPub    Inside  ...           0             0         0         120   \n",
      "1    AllPub    Corner  ...          36             0         0           0   \n",
      "2    AllPub    Inside  ...          34             0         0           0   \n",
      "3    AllPub    Inside  ...          36             0         0           0   \n",
      "4    AllPub    Inside  ...          82             0         0         144   \n",
      "\n",
      "  PoolArea MiscVal  MoSold  YrSold  SaleType  SaleCondition  \n",
      "0        0       0       6    2010        WD         Normal  \n",
      "1        0   12500       6    2010        WD         Normal  \n",
      "2        0       0       3    2010        WD         Normal  \n",
      "3        0       0       6    2010        WD         Normal  \n",
      "4        0       0       1    2010        WD         Normal  \n",
      "\n",
      "[5 rows x 76 columns]\n",
      "\n",
      "Summary Statistics (After Cleaning):\n",
      "                Id  LotFrontage       LotArea  OverallQual  OverallCond  \\\n",
      "count  1459.000000  1232.000000   1459.000000  1459.000000  1459.000000   \n",
      "mean   2190.000000    68.071429   9504.074023     6.078821     5.553804   \n",
      "std     421.321334    20.275032   3625.531053     1.436812     1.113740   \n",
      "min    1461.000000    25.000000   1470.000000     1.000000     1.000000   \n",
      "25%    1825.500000    58.000000   7391.000000     5.000000     5.000000   \n",
      "50%    2190.000000    67.000000   9399.000000     6.000000     5.000000   \n",
      "75%    2554.500000    80.000000  11517.500000     7.000000     6.000000   \n",
      "max    2919.000000   113.000000  17707.250000    10.000000     9.000000   \n",
      "\n",
      "         YearBuilt  YearRemodAdd   MasVnrArea   BsmtFinSF1   BsmtFinSF2  ...  \\\n",
      "count  1459.000000   1459.000000  1444.000000  1458.000000  1458.000000  ...   \n",
      "mean   1971.357779   1983.662783   100.709141   439.203704    52.619342  ...   \n",
      "std      30.390071     21.130467   177.625900   455.268042   176.753926  ...   \n",
      "min    1879.000000   1950.000000     0.000000     0.000000     0.000000  ...   \n",
      "25%    1953.000000   1963.000000     0.000000     0.000000     0.000000  ...   \n",
      "50%    1973.000000   1992.000000     0.000000   350.500000     0.000000  ...   \n",
      "75%    2001.000000   2004.000000   164.000000   753.500000     0.000000  ...   \n",
      "max    2010.000000   2010.000000  1290.000000  4010.000000  1526.000000  ...   \n",
      "\n",
      "        GarageArea   WoodDeckSF  OpenPorchSF  EnclosedPorch    3SsnPorch  \\\n",
      "count  1458.000000  1459.000000  1459.000000    1459.000000  1459.000000   \n",
      "mean    472.768861    93.174777    48.313914      24.243317     1.794380   \n",
      "std     217.048611   127.744882    68.883364      67.227765    20.207842   \n",
      "min       0.000000     0.000000     0.000000       0.000000     0.000000   \n",
      "25%     318.000000     0.000000     0.000000       0.000000     0.000000   \n",
      "50%     480.000000     0.000000    28.000000       0.000000     0.000000   \n",
      "75%     576.000000   168.000000    72.000000       0.000000     0.000000   \n",
      "max    1488.000000  1424.000000   742.000000    1012.000000   360.000000   \n",
      "\n",
      "       ScreenPorch     PoolArea       MiscVal       MoSold       YrSold  \n",
      "count  1459.000000  1459.000000   1459.000000  1459.000000  1459.000000  \n",
      "mean     17.064428     1.744345     58.167923     6.104181  2007.769705  \n",
      "std      56.609763    30.491646    630.806978     2.722432     1.301740  \n",
      "min       0.000000     0.000000      0.000000     1.000000  2006.000000  \n",
      "25%       0.000000     0.000000      0.000000     4.000000  2007.000000  \n",
      "50%       0.000000     0.000000      0.000000     6.000000  2008.000000  \n",
      "75%       0.000000     0.000000      0.000000     8.000000  2009.000000  \n",
      "max     576.000000   800.000000  17000.000000    12.000000  2010.000000  \n",
      "\n",
      "[8 rows x 36 columns]\n"
     ]
    }
   ],
   "source": [
    "# ---- After cleaning snapshot\n",
    "print(\"\\nFinal Shape:\", df.shape)\n",
    "print(\"\\nSample Rows (After Cleaning):\")\n",
    "print(df.head())\n",
    "\n",
    "print(\"\\nSummary Statistics (After Cleaning):\")\n",
    "print(df.describe())"
   ]
  },
  {
   "cell_type": "code",
   "execution_count": 56,
   "id": "7d9d8cc7",
   "metadata": {},
   "outputs": [
    {
     "name": "stdout",
     "output_type": "stream",
     "text": [
      "\n",
      "Cleaned dataset saved to: data/cleaned_dataset.csv\n"
     ]
    }
   ],
   "source": [
    "# ---- Save cleaned dataset\n",
    "df.to_csv(\"../data/cleaned_dataset.csv\", index=False)\n",
    "print(\"\\nCleaned dataset saved to: data/cleaned_dataset.csv\")"
   ]
  }
 ],
 "metadata": {
  "kernelspec": {
   "display_name": "Python 3",
   "language": "python",
   "name": "python3"
  },
  "language_info": {
   "codemirror_mode": {
    "name": "ipython",
    "version": 3
   },
   "file_extension": ".py",
   "mimetype": "text/x-python",
   "name": "python",
   "nbconvert_exporter": "python",
   "pygments_lexer": "ipython3",
   "version": "3.12.1"
  }
 },
 "nbformat": 4,
 "nbformat_minor": 5
}
